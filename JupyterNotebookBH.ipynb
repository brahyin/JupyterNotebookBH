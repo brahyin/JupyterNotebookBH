{
 "cells": [
  {
   "cell_type": "markdown",
   "id": "ebfe5577",
   "metadata": {},
   "source": [
    "# Week 2 Jupyter Notebook\n",
    "\n",
    "## by Bryan Hill\n",
    "\n",
    "This is my first time ever working with Jupyter Notebook so there is a lot that I have to learn about using this program."
   ]
  },
  {
   "cell_type": "markdown",
   "id": "a3310ba3",
   "metadata": {},
   "source": [
    "# What I AM Comfortable With"
   ]
  },
  {
   "cell_type": "markdown",
   "id": "6d10564c",
   "metadata": {},
   "source": [
    "I have used coding languages before but it has been such a long time that I feel that as of this current moment I only remember how to do the absolute basics, such as your Hello World codes."
   ]
  },
  {
   "cell_type": "code",
   "execution_count": 1,
   "id": "5c24f029",
   "metadata": {},
   "outputs": [
    {
     "name": "stdout",
     "output_type": "stream",
     "text": [
      "Hello, World!\n",
      "My name is Bryan Hill\n",
      "This course is IS362, Data Management\n"
     ]
    }
   ],
   "source": [
    "print ('Hello, World!')\n",
    "print ('My name is Bryan Hill')\n",
    "print ('This course is IS362, Data Management')"
   ]
  },
  {
   "cell_type": "markdown",
   "id": "f5363df5",
   "metadata": {},
   "source": [
    "I am also familiar with importing code to set up a program, bad code example given below"
   ]
  },
  {
   "cell_type": "code",
   "execution_count": 2,
   "id": "2f4b094a",
   "metadata": {},
   "outputs": [
    {
     "ename": "SyntaxError",
     "evalue": "invalid syntax (1964583370.py, line 4)",
     "output_type": "error",
     "traceback": [
      "\u001b[1;36m  Cell \u001b[1;32mIn[2], line 4\u001b[1;36m\u001b[0m\n\u001b[1;33m    // after this would be the bulk of the code //\u001b[0m\n\u001b[1;37m    ^\u001b[0m\n\u001b[1;31mSyntaxError\u001b[0m\u001b[1;31m:\u001b[0m invalid syntax\n"
     ]
    }
   ],
   "source": [
    "from clientxyz import baseabc\n",
    "import thisisatest\n",
    "\n",
    "// after this would be the bulk of the code //\n"
   ]
  },
  {
   "cell_type": "code",
   "execution_count": 3,
   "id": "0a6a0d30",
   "metadata": {},
   "outputs": [
    {
     "ename": "SyntaxError",
     "evalue": "invalid syntax. Maybe you meant '==' or ':=' instead of '='? (2200314300.py, line 1)",
     "output_type": "error",
     "traceback": [
      "\u001b[1;36m  Cell \u001b[1;32mIn[3], line 1\u001b[1;36m\u001b[0m\n\u001b[1;33m    if (x = something)\u001b[0m\n\u001b[1;37m        ^\u001b[0m\n\u001b[1;31mSyntaxError\u001b[0m\u001b[1;31m:\u001b[0m invalid syntax. Maybe you meant '==' or ':=' instead of '='?\n"
     ]
    }
   ],
   "source": [
    "if (x = something)\n",
    "print ('Your answer is ') (x)\n",
    "\n",
    "else \n",
    "\n",
    "print ('Please supply a correct answer.')"
   ]
  },
  {
   "cell_type": "markdown",
   "id": "e00a3554",
   "metadata": {},
   "source": [
    "Anything beyond this, I would need a major refresher. Which is why I am wanting to get over this overwhelming nature of the beginning of the courses so that I may be comfortable in my footing with programming again.\n",
    "\n",
    "My apologies if this assignment is not satisfactory, this is my first time using Jupyter Notebook! Am open to any and all criticisms and ways to improve upon this."
   ]
  }
 ],
 "metadata": {
  "kernelspec": {
   "display_name": "Python 3 (ipykernel)",
   "language": "python",
   "name": "python3"
  },
  "language_info": {
   "codemirror_mode": {
    "name": "ipython",
    "version": 3
   },
   "file_extension": ".py",
   "mimetype": "text/x-python",
   "name": "python",
   "nbconvert_exporter": "python",
   "pygments_lexer": "ipython3",
   "version": "3.11.4"
  }
 },
 "nbformat": 4,
 "nbformat_minor": 5
}
